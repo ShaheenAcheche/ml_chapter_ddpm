{
 "cells": [
  {
   "cell_type": "code",
   "execution_count": 69,
   "metadata": {},
   "outputs": [],
   "source": [
    "import torch\n",
    "import torch.nn as nn\n",
    "import torch.nn.functional as F\n",
    "import matplotlib.pyplot as plt\n",
    "\n",
    "import numpy as np\n",
    "\n",
    "from tqdm import tqdm\n",
    "from torchvision.utils import save_image, make_grid\n",
    "from tqdm import tqdm\n",
    "from torch.optim import Adam\n",
    "\n",
    "import math"
   ]
  },
  {
   "cell_type": "code",
   "execution_count": 70,
   "metadata": {},
   "outputs": [],
   "source": [
    "DEVICE = \"mps\""
   ]
  },
  {
   "cell_type": "markdown",
   "metadata": {},
   "source": [
    "# Load Dataset"
   ]
  },
  {
   "cell_type": "code",
   "execution_count": 71,
   "metadata": {},
   "outputs": [],
   "source": [
    "from torchvision.datasets import MNIST\n",
    "import torchvision.transforms as transforms\n",
    "import torch.utils.data as torch_data\n",
    "\n",
    "transform_to_tensor = transforms.Compose([transforms.ToTensor()])\n",
    "\n",
    "train_dataset = MNIST(\"./MNIST_dataset/\", transform=transform_to_tensor, train= True, download=True)\n",
    "val_dataset = MNIST(\"./MNIST_dataset/\", transform=transform_to_tensor, train= False, download=True)\n"
   ]
  },
  {
   "cell_type": "code",
   "execution_count": 72,
   "metadata": {},
   "outputs": [],
   "source": [
    "train_dataloader = torch_data.DataLoader(dataset=train_dataset, batch_size=32, shuffle=True)\n",
    "val_dataloader = torch_data.DataLoader(dataset=val_dataset, batch_size=32, shuffle=True)"
   ]
  },
  {
   "cell_type": "markdown",
   "metadata": {},
   "source": [
    "# Check MNIST data"
   ]
  },
  {
   "cell_type": "code",
   "execution_count": 73,
   "metadata": {},
   "outputs": [
    {
     "data": {
      "text/plain": [
       "Text(0.5, 1.0, '7')"
      ]
     },
     "execution_count": 73,
     "metadata": {},
     "output_type": "execute_result"
    },
    {
     "data": {
      "image/png": "[encoded data removed]",
      "text/plain": [
       "<Figure size 640x480 with 1 Axes>"
      ]
     },
     "metadata": {},
     "output_type": "display_data"
    }
   ],
   "source": [
    "plt.imshow(train_dataset[42][0][0], cmap=\"gray\", interpolation=\"nearest\")\n",
    "plt.title(f\"{train_dataset[42][1]}\")"
   ]
  },
  {
   "cell_type": "code",
   "execution_count": 74,
   "metadata": {},
   "outputs": [
    {
     "name": "stdout",
     "output_type": "stream",
     "text": [
      "size train dataset 60000\n",
      "size val dataset 10000\n"
     ]
    }
   ],
   "source": [
    "print(f\"size train dataset {len(train_dataset)}\")\n",
    "print(f\"size val dataset {len(val_dataset)}\")"
   ]
  },
  {
   "cell_type": "markdown",
   "metadata": {},
   "source": [
    "# Model (not the most important part)"
   ]
  },
  {
   "cell_type": "code",
   "execution_count": 75,
   "metadata": {},
   "outputs": [],
   "source": [
    "class UNetBlock(nn.Module):\n",
    "    def __init__(self, shape, in_c, out_c, kernel_size=3, stride=1, padding=1, activation=None, normalize=True):\n",
    "        super(UNetBlock, self).__init__()\n",
    "        self.ln = nn.LayerNorm(shape)\n",
    "        self.conv1 = nn.Conv2d(in_c, out_c, kernel_size, stride, padding)\n",
    "        self.conv2 = nn.Conv2d(out_c, out_c, kernel_size, stride, padding)\n",
    "        self.activation = nn.SiLU() if activation is None else activation\n",
    "        self.normalize = normalize\n",
    "\n",
    "    def forward(self, x):\n",
    "        out = self.ln(x) if self.normalize else x\n",
    "        out = self.conv1(out)\n",
    "        out = self.activation(out)\n",
    "        out = self.conv2(out)\n",
    "        out = self.activation(out)\n",
    "        return out\n",
    "    \n"
   ]
  },
  {
   "cell_type": "code",
   "execution_count": 76,
   "metadata": {},
   "outputs": [],
   "source": [
    "class SinusoidalPosEmb(nn.Module):\n",
    "    def __init__(self, dim):\n",
    "        super().__init__()\n",
    "        self.dim = dim\n",
    "\n",
    "    def forward(self, x):\n",
    "        device = x.device\n",
    "        half_dim = self.dim // 2\n",
    "        emb = math.log(10000) / (half_dim - 1)\n",
    "        emb = torch.exp(torch.arange(half_dim, device=device) * -emb)\n",
    "        emb = x[:, None] * emb[None, :]\n",
    "        emb = torch.cat((emb.sin(), emb.cos()), dim=-1)\n",
    "        return emb"
   ]
  },
  {
   "cell_type": "code",
   "execution_count": 77,
   "metadata": {},
   "outputs": [],
   "source": [
    "class MyUNet(nn.Module):\n",
    "    def __init__(self, time_emb_dim=100):\n",
    "        super(MyUNet, self).__init__()\n",
    "\n",
    "        # Sinusoidal embedding\n",
    "        self.time_embed = SinusoidalPosEmb(time_emb_dim)\n",
    "        \n",
    "        # First half\n",
    "        self.te1 = mlp_time_embedding(time_emb_dim, 1)\n",
    "        self.b1 = nn.Sequential(\n",
    "            UNetBlock((1, 28, 28), 1, 10),\n",
    "            UNetBlock((10, 28, 28), 10, 10),\n",
    "            UNetBlock((10, 28, 28), 10, 10)\n",
    "        )\n",
    "        self.down1 = nn.Conv2d(10, 10, 4, 2, 1)\n",
    "\n",
    "        self.te2 = mlp_time_embedding(time_emb_dim, 10)\n",
    "        self.b2 = nn.Sequential(\n",
    "            UNetBlock((10, 14, 14), 10, 20),\n",
    "            UNetBlock((20, 14, 14), 20, 20),\n",
    "            UNetBlock((20, 14, 14), 20, 20)\n",
    "        )\n",
    "        self.down2 = nn.Conv2d(20, 20, 4, 2, 1)\n",
    "\n",
    "        self.te3 = mlp_time_embedding(time_emb_dim, 20)\n",
    "        self.b3 = nn.Sequential(\n",
    "            UNetBlock((20, 7, 7), 20, 40),\n",
    "            UNetBlock((40, 7, 7), 40, 40),\n",
    "            UNetBlock((40, 7, 7), 40, 40)\n",
    "        )\n",
    "        self.down3 = nn.Sequential(\n",
    "            nn.Conv2d(40, 40, 2, 1),\n",
    "            nn.SiLU(),\n",
    "            nn.Conv2d(40, 40, 4, 2, 1)\n",
    "        )\n",
    "\n",
    "        # Bottleneck\n",
    "        self.te_mid = mlp_time_embedding(time_emb_dim, 40)\n",
    "        self.b_mid = nn.Sequential(\n",
    "            UNetBlock((40, 3, 3), 40, 20),\n",
    "            UNetBlock((20, 3, 3), 20, 20),\n",
    "            UNetBlock((20, 3, 3), 20, 40)\n",
    "        )\n",
    "\n",
    "        # Second half\n",
    "        self.up1 = nn.Sequential(\n",
    "            nn.ConvTranspose2d(40, 40, 4, 2, 1),\n",
    "            nn.SiLU(),\n",
    "            nn.ConvTranspose2d(40, 40, 2, 1)\n",
    "        )\n",
    "\n",
    "        self.te4 = mlp_time_embedding(time_emb_dim, 80)\n",
    "        self.b4 = nn.Sequential(\n",
    "            UNetBlock((80, 7, 7), 80, 40),\n",
    "            UNetBlock((40, 7, 7), 40, 20),\n",
    "            UNetBlock((20, 7, 7), 20, 20)\n",
    "        )\n",
    "\n",
    "        self.up2 = nn.ConvTranspose2d(20, 20, 4, 2, 1)\n",
    "        self.te5 = mlp_time_embedding(time_emb_dim, 40)\n",
    "        self.b5 = nn.Sequential(\n",
    "            UNetBlock((40, 14, 14), 40, 20),\n",
    "            UNetBlock((20, 14, 14), 20, 10),\n",
    "            UNetBlock((10, 14, 14), 10, 10)\n",
    "        )\n",
    "\n",
    "        self.up3 = nn.ConvTranspose2d(10, 10, 4, 2, 1)\n",
    "        self.te_out = mlp_time_embedding(time_emb_dim, 20)\n",
    "        self.b_out = nn.Sequential(\n",
    "            UNetBlock((20, 28, 28), 20, 10),\n",
    "            UNetBlock((10, 28, 28), 10, 10),\n",
    "            UNetBlock((10, 28, 28), 10, 10, normalize=False)\n",
    "        )\n",
    "\n",
    "        self.conv_out = nn.Conv2d(10, 1, 3, 1, 1)\n",
    "\n",
    "    def forward(self, x, t):\n",
    "        # x is (N, 2, 28, 28) (image with positional embedding stacked on channel dimension)\n",
    "        t = self.time_embed(t)\n",
    "        n = len(x)\n",
    "        out1 = self.b1(x + self.te1(t).reshape(n, -1, 1, 1))  # (N, 10, 28, 28)\n",
    "        out2 = self.b2(self.down1(out1) + self.te2(t).reshape(n, -1, 1, 1))  # (N, 20, 14, 14)\n",
    "        out3 = self.b3(self.down2(out2) + self.te3(t).reshape(n, -1, 1, 1))  # (N, 40, 7, 7)\n",
    "\n",
    "        out_mid = self.b_mid(self.down3(out3) + self.te_mid(t).reshape(n, -1, 1, 1))  # (N, 40, 3, 3)\n",
    "\n",
    "        out4 = torch.cat((out3, self.up1(out_mid)), dim=1)  # (N, 80, 7, 7)\n",
    "        out4 = self.b4(out4 + self.te4(t).reshape(n, -1, 1, 1))  # (N, 20, 7, 7)\n",
    "\n",
    "        out5 = torch.cat((out2, self.up2(out4)), dim=1)  # (N, 40, 14, 14)\n",
    "        out5 = self.b5(out5 + self.te5(t).reshape(n, -1, 1, 1))  # (N, 10, 14, 14)\n",
    "\n",
    "        out = torch.cat((out1, self.up3(out5)), dim=1)  # (N, 20, 28, 28)\n",
    "        out = self.b_out(out + self.te_out(t).reshape(n, -1, 1, 1))  # (N, 1, 28, 28)\n",
    "\n",
    "        out = self.conv_out(out)\n",
    "\n",
    "        return out\n",
    "\n",
    "def mlp_time_embedding(dim_in, dim_out)-> nn.Module:\n",
    "    return nn.Sequential(\n",
    "        nn.Linear(dim_in, dim_out),\n",
    "        nn.SiLU(),\n",
    "        nn.Linear(dim_out, dim_out)\n",
    "    )\n"
   ]
  },
  {
   "cell_type": "code",
   "execution_count": 91,
   "metadata": {},
   "outputs": [],
   "source": [
    "class Diffusion(nn.Module):\n",
    "    def __init__(self, model, n_times=1000, beta_minmax=[1e-4, 2e-2], device='cuda'):\n",
    "    \n",
    "        super(Diffusion, self).__init__()\n",
    "    \n",
    "        self.n_times = n_times\n",
    "\n",
    "        self.model = model\n",
    "        \n",
    "        # define linear variance schedule(betas)\n",
    "        beta_1, beta_T = beta_minmax\n",
    "        betas = torch.linspace(start=beta_1, end=beta_T, steps=n_times).to(device) # follows DDPM paper\n",
    "        self.sqrt_betas = torch.sqrt(betas)\n",
    "                                     \n",
    "        # define alpha for forward diffusion kernel\n",
    "        self.alphas = 1 - betas\n",
    "        self.sqrt_alphas = torch.sqrt(self.alphas)\n",
    "        alpha_bars = torch.cumprod(self.alphas, dim=0)\n",
    "        self.sqrt_one_minus_alpha_bars = torch.sqrt(1-alpha_bars)\n",
    "        self.sqrt_alpha_bars = torch.sqrt(alpha_bars)\n",
    "        \n",
    "        self.device = device\n",
    "    \n",
    "    def extract(self, a, t, x_shape):\n",
    "        \"\"\"\n",
    "            This function will be used to extract alphas and betas at time t.\n",
    "            Basically, it gets the value of t, select the corresponding value of the tensor a at the index t, and reshape it to match the value of x. This tensor's broadcasting help for hadamard product.\n",
    "            from lucidrains' implementation\n",
    "                https://github.com/lucidrains/denoising-diffusion-pytorch/blob/beb2f2d8dd9b4f2bd5be4719f37082fe061ee450/denoising_diffusion_pytorch/denoising_diffusion_pytorch.py#L376\n",
    "        \"\"\"\n",
    "        b, *_ = t.shape\n",
    "        out = a.gather(-1, t)\n",
    "        return out.reshape(b, *((1,) * (len(x_shape) - 1)))\n",
    "    \n",
    "    def scale_to_minus_one_to_one(self, x):\n",
    "        # according to the DDPMs paper, normalization seems to be crucial to train reverse process network\n",
    "        return x * 2 - 1\n",
    "    \n",
    "    def reverse_scale_to_zero_to_one(self, x):\n",
    "        return (x + 1) * 0.5\n",
    "    \n",
    "    def make_noisy(self, x_zeros, t):\n",
    "        # perturb x_0 into x_t (i.e., take x_0 samples into forward diffusion kernels)\n",
    "        epsilon = torch.randn_like(x_zeros).to(self.device)\n",
    "        \n",
    "        sqrt_alpha_bar = self.extract(self.sqrt_alpha_bars, t, x_zeros.shape)\n",
    "        sqrt_one_minus_alpha_bar = self.extract(self.sqrt_one_minus_alpha_bars, t, x_zeros.shape)\n",
    "        # Let's make noisy sample!: i.e., Forward process with fixed variance schedule\n",
    "        #      i.e., sqrt(alpha_bar_t) * x_zero + sqrt(1-alpha_bar_t) * epsilon\n",
    "        perturbed_images = x_zeros * sqrt_alpha_bar + epsilon * sqrt_one_minus_alpha_bar\n",
    "    \n",
    "        return perturbed_images.detach(), epsilon\n",
    "    \n",
    "    \n",
    "    def forward(self, x_zeros):\n",
    "        x_zeros = self.scale_to_minus_one_to_one(x_zeros)\n",
    "        \n",
    "        B, _, _, _ = x_zeros.shape\n",
    "        \n",
    "        # (1) randomly choose diffusion time-step\n",
    "        t = torch.randint(low=0, high=self.n_times, size=(B,)).long().to(self.device)\n",
    "        \n",
    "        # (2) forward diffusion process: perturb x_zeros with fixed variance schedule\n",
    "        perturbed_images, epsilon = self.make_noisy(x_zeros, t)\n",
    "        \n",
    "        # (3) predict epsilon(noise) given perturbed data at diffusion-timestep t.\n",
    "        pred_epsilon = self.model(perturbed_images, t)\n",
    "        \n",
    "        return perturbed_images, epsilon, pred_epsilon\n",
    "    \n",
    "    \n",
    "    def denoise_at_t(self, x_t, timestep:torch.Tensor, t: int):\n",
    "        B, _, _, _ = x_t.shape\n",
    "        if t > 1:\n",
    "            z = torch.randn_like(x_t).to(self.device)\n",
    "        else:\n",
    "            z = torch.zeros_like(x_t).to(self.device)\n",
    "        \n",
    "        # at inference, we use predicted noise(epsilon) to restore perturbed data sample.\n",
    "        epsilon_pred = self.model(x_t, timestep)\n",
    "        \n",
    "        alpha = self.extract(self.alphas, timestep, x_t.shape)\n",
    "        sqrt_alpha = self.extract(self.sqrt_alphas, timestep, x_t.shape)\n",
    "        sqrt_one_minus_alpha_bar = self.extract(self.sqrt_one_minus_alpha_bars, timestep, x_t.shape)\n",
    "        sqrt_beta = self.extract(self.sqrt_betas, timestep, x_t.shape)\n",
    "        \n",
    "        # denoise at time t, utilizing predicted noise\n",
    "        x_t_minus_1 = 1 / sqrt_alpha * (x_t - (1-alpha)/sqrt_one_minus_alpha_bar*epsilon_pred) + sqrt_beta*z\n",
    "        \n",
    "        return x_t_minus_1.clamp(-1., 1)\n",
    "                \n",
    "    def sample(self, N):\n",
    "        # start from random noise vector, x_0 (for simplicity, x_T declared as x_t instead of x_T)\n",
    "        x_t = torch.randn((N, 1, 28, 28)).to(self.device)\n",
    "        \n",
    "        # autoregressively denoise from x_T to x_0\n",
    "        #     i.e., generate image from noise, x_T\n",
    "        for t in range(self.n_times-1, -1, -1):\n",
    "            timestep = torch.tensor([t]).repeat_interleave(N, dim=0).long().to(self.device)\n",
    "            x_t = self.denoise_at_t(x_t, timestep, t)\n",
    "        \n",
    "        # denormalize x_0 into 0 ~ 1 ranged values.\n",
    "        x_0 = self.reverse_scale_to_zero_to_one(x_t)\n",
    "        \n",
    "        return x_0\n",
    "    \n"
   ]
  },
  {
   "cell_type": "code",
   "execution_count": 92,
   "metadata": {},
   "outputs": [],
   "source": [
    "model = MyUNet(time_emb_dim=256)\n"
   ]
  },
  {
   "cell_type": "code",
   "execution_count": 93,
   "metadata": {},
   "outputs": [
    {
     "data": {
      "text/plain": [
       "539768"
      ]
     },
     "execution_count": 93,
     "metadata": {},
     "output_type": "execute_result"
    }
   ],
   "source": [
    "def count_parameters(model):\n",
    "    return sum(p.numel() for p in model.parameters() if p.requires_grad)\n",
    "\n",
    "count_parameters(model)"
   ]
  },
  {
   "cell_type": "code",
   "execution_count": 94,
   "metadata": {},
   "outputs": [],
   "source": [
    "\n",
    "diffusion = Diffusion(model, n_times=1000, device=DEVICE).to(DEVICE)\n",
    "\n",
    "optimizer = Adam(diffusion.parameters(), lr=3e-4)\n",
    "denoising_loss = nn.MSELoss()"
   ]
  },
  {
   "cell_type": "code",
   "execution_count": 95,
   "metadata": {},
   "outputs": [
    {
     "name": "stdout",
     "output_type": "stream",
     "text": [
      "tensor([0.9999, 0.9999, 0.9998, 0.9997, 0.9997, 0.9996, 0.9994, 0.9993, 0.9992,\n",
      "        0.9991, 0.9989, 0.9987, 0.9986, 0.9984, 0.9982, 0.9980, 0.9978, 0.9976,\n",
      "        0.9973, 0.9971, 0.9969, 0.9966, 0.9963, 0.9961, 0.9958, 0.9955, 0.9952,\n",
      "        0.9948, 0.9945, 0.9942, 0.9938, 0.9935, 0.9931, 0.9927, 0.9924, 0.9920,\n",
      "        0.9916, 0.9911, 0.9907, 0.9903, 0.9898, 0.9894, 0.9889, 0.9884, 0.9880,\n",
      "        0.9875, 0.9870, 0.9865, 0.9859, 0.9854, 0.9849, 0.9843, 0.9838, 0.9832,\n",
      "        0.9826, 0.9820, 0.9814, 0.9808, 0.9802, 0.9796, 0.9789, 0.9783, 0.9776,\n",
      "        0.9770, 0.9763, 0.9756, 0.9749, 0.9742, 0.9735, 0.9728, 0.9721, 0.9713,\n",
      "        0.9706, 0.9698, 0.9691, 0.9683, 0.9675, 0.9667, 0.9659, 0.9651, 0.9643,\n",
      "        0.9635, 0.9626, 0.9618, 0.9610, 0.9601, 0.9592, 0.9583, 0.9575, 0.9566,\n",
      "        0.9556, 0.9547, 0.9538, 0.9529, 0.9519, 0.9510, 0.9500, 0.9491, 0.9481,\n",
      "        0.9471, 0.9461, 0.9451, 0.9441, 0.9431, 0.9421, 0.9410, 0.9400, 0.9389,\n",
      "        0.9379, 0.9368, 0.9358, 0.9347, 0.9336, 0.9325, 0.9314, 0.9303, 0.9291,\n",
      "        0.9280, 0.9269, 0.9257, 0.9246, 0.9234, 0.9222, 0.9211, 0.9199, 0.9187,\n",
      "        0.9175, 0.9163, 0.9151, 0.9138, 0.9126, 0.9114, 0.9101, 0.9089, 0.9076,\n",
      "        0.9064, 0.9051, 0.9038, 0.9025, 0.9012, 0.8999, 0.8986, 0.8973, 0.8960,\n",
      "        0.8946, 0.8933, 0.8919, 0.8906, 0.8892, 0.8879, 0.8865, 0.8851, 0.8837,\n",
      "        0.8823, 0.8809, 0.8795, 0.8781, 0.8767, 0.8753, 0.8739, 0.8724, 0.8710,\n",
      "        0.8695, 0.8681, 0.8666, 0.8651, 0.8637, 0.8622, 0.8607, 0.8592, 0.8577,\n",
      "        0.8562, 0.8547, 0.8532, 0.8516, 0.8501, 0.8486, 0.8470, 0.8455, 0.8439,\n",
      "        0.8424, 0.8408, 0.8393, 0.8377, 0.8361, 0.8345, 0.8329, 0.8313, 0.8297,\n",
      "        0.8281, 0.8265, 0.8249, 0.8233, 0.8217, 0.8200, 0.8184, 0.8168, 0.8151,\n",
      "        0.8135, 0.8118, 0.8102, 0.8085, 0.8068, 0.8051, 0.8035, 0.8018, 0.8001,\n",
      "        0.7984, 0.7967, 0.7950, 0.7933, 0.7916, 0.7899, 0.7882, 0.7864, 0.7847,\n",
      "        0.7830, 0.7813, 0.7795, 0.7778, 0.7760, 0.7743, 0.7725, 0.7708, 0.7690,\n",
      "        0.7673, 0.7655, 0.7637, 0.7619, 0.7602, 0.7584, 0.7566, 0.7548, 0.7530,\n",
      "        0.7512, 0.7494, 0.7476, 0.7458, 0.7440, 0.7422, 0.7404, 0.7386, 0.7368,\n",
      "        0.7349, 0.7331, 0.7313, 0.7294, 0.7276, 0.7258, 0.7239, 0.7221, 0.7203,\n",
      "        0.7184, 0.7166, 0.7147, 0.7129, 0.7110, 0.7091, 0.7073, 0.7054, 0.7036,\n",
      "        0.7017, 0.6998, 0.6979, 0.6961, 0.6942, 0.6923, 0.6904, 0.6886, 0.6867,\n",
      "        0.6848, 0.6829, 0.6810, 0.6791, 0.6772, 0.6754, 0.6735, 0.6716, 0.6697,\n",
      "        0.6678, 0.6659, 0.6640, 0.6621, 0.6602, 0.6583, 0.6564, 0.6545, 0.6526,\n",
      "        0.6507, 0.6487, 0.6468, 0.6449, 0.6430, 0.6411, 0.6392, 0.6373, 0.6354,\n",
      "        0.6334, 0.6315, 0.6296, 0.6277, 0.6258, 0.6239, 0.6220, 0.6200, 0.6181,\n",
      "        0.6162, 0.6143, 0.6124, 0.6104, 0.6085, 0.6066, 0.6047, 0.6028, 0.6009,\n",
      "        0.5989, 0.5970, 0.5951, 0.5932, 0.5913, 0.5893, 0.5874, 0.5855, 0.5836,\n",
      "        0.5817, 0.5798, 0.5779, 0.5759, 0.5740, 0.5721, 0.5702, 0.5683, 0.5664,\n",
      "        0.5645, 0.5626, 0.5607, 0.5587, 0.5568, 0.5549, 0.5530, 0.5511, 0.5492,\n",
      "        0.5473, 0.5454, 0.5435, 0.5416, 0.5397, 0.5378, 0.5359, 0.5340, 0.5321,\n",
      "        0.5303, 0.5284, 0.5265, 0.5246, 0.5227, 0.5208, 0.5189, 0.5171, 0.5152,\n",
      "        0.5133, 0.5114, 0.5096, 0.5077, 0.5058, 0.5040, 0.5021, 0.5002, 0.4984,\n",
      "        0.4965, 0.4946, 0.4928, 0.4909, 0.4891, 0.4872, 0.4854, 0.4835, 0.4817,\n",
      "        0.4799, 0.4780, 0.4762, 0.4743, 0.4725, 0.4707, 0.4689, 0.4670, 0.4652,\n",
      "        0.4634, 0.4616, 0.4598, 0.4579, 0.4561, 0.4543, 0.4525, 0.4507, 0.4489,\n",
      "        0.4471, 0.4453, 0.4435, 0.4418, 0.4400, 0.4382, 0.4364, 0.4346, 0.4329,\n",
      "        0.4311, 0.4293, 0.4275, 0.4258, 0.4240, 0.4223, 0.4205, 0.4188, 0.4170,\n",
      "        0.4153, 0.4135, 0.4118, 0.4101, 0.4083, 0.4066, 0.4049, 0.4032, 0.4014,\n",
      "        0.3997, 0.3980, 0.3963, 0.3946, 0.3929, 0.3912, 0.3895, 0.3878, 0.3861,\n",
      "        0.3844, 0.3828, 0.3811, 0.3794, 0.3777, 0.3761, 0.3744, 0.3727, 0.3711,\n",
      "        0.3694, 0.3678, 0.3661, 0.3645, 0.3629, 0.3612, 0.3596, 0.3580, 0.3564,\n",
      "        0.3547, 0.3531, 0.3515, 0.3499, 0.3483, 0.3467, 0.3451, 0.3435, 0.3419,\n",
      "        0.3403, 0.3388, 0.3372, 0.3356, 0.3340, 0.3325, 0.3309, 0.3294, 0.3278,\n",
      "        0.3263, 0.3247, 0.3232, 0.3216, 0.3201, 0.3186, 0.3171, 0.3155, 0.3140,\n",
      "        0.3125, 0.3110, 0.3095, 0.3080, 0.3065, 0.3050, 0.3035, 0.3021, 0.3006,\n",
      "        0.2991, 0.2976, 0.2962, 0.2947, 0.2933, 0.2918, 0.2904, 0.2889, 0.2875,\n",
      "        0.2860, 0.2846, 0.2832, 0.2818, 0.2803, 0.2789, 0.2775, 0.2761, 0.2747,\n",
      "        0.2733, 0.2719, 0.2705, 0.2691, 0.2678, 0.2664, 0.2650, 0.2637, 0.2623,\n",
      "        0.2609, 0.2596, 0.2582, 0.2569, 0.2556, 0.2542, 0.2529, 0.2516, 0.2502,\n",
      "        0.2489, 0.2476, 0.2463, 0.2450, 0.2437, 0.2424, 0.2411, 0.2398, 0.2386,\n",
      "        0.2373, 0.2360, 0.2347, 0.2335, 0.2322, 0.2310, 0.2297, 0.2285, 0.2272,\n",
      "        0.2260, 0.2247, 0.2235, 0.2223, 0.2211, 0.2199, 0.2187, 0.2174, 0.2162,\n",
      "        0.2151, 0.2139, 0.2127, 0.2115, 0.2103, 0.2091, 0.2080, 0.2068, 0.2056,\n",
      "        0.2045, 0.2033, 0.2022, 0.2010, 0.1999, 0.1988, 0.1976, 0.1965, 0.1954,\n",
      "        0.1943, 0.1932, 0.1921, 0.1910, 0.1899, 0.1888, 0.1877, 0.1866, 0.1855,\n",
      "        0.1844, 0.1834, 0.1823, 0.1812, 0.1802, 0.1791, 0.1781, 0.1770, 0.1760,\n",
      "        0.1749, 0.1739, 0.1729, 0.1719, 0.1708, 0.1698, 0.1688, 0.1678, 0.1668,\n",
      "        0.1658, 0.1648, 0.1638, 0.1628, 0.1618, 0.1609, 0.1599, 0.1589, 0.1580,\n",
      "        0.1570, 0.1561, 0.1551, 0.1542, 0.1532, 0.1523, 0.1513, 0.1504, 0.1495,\n",
      "        0.1486, 0.1476, 0.1467, 0.1458, 0.1449, 0.1440, 0.1431, 0.1422, 0.1413,\n",
      "        0.1405, 0.1396, 0.1387, 0.1378, 0.1370, 0.1361, 0.1352, 0.1344, 0.1335,\n",
      "        0.1327, 0.1318, 0.1310, 0.1302, 0.1293, 0.1285, 0.1277, 0.1269, 0.1261,\n",
      "        0.1252, 0.1244, 0.1236, 0.1228, 0.1220, 0.1212, 0.1205, 0.1197, 0.1189,\n",
      "        0.1181, 0.1173, 0.1166, 0.1158, 0.1151, 0.1143, 0.1135, 0.1128, 0.1120,\n",
      "        0.1113, 0.1106, 0.1098, 0.1091, 0.1084, 0.1077, 0.1069, 0.1062, 0.1055,\n",
      "        0.1048, 0.1041, 0.1034, 0.1027, 0.1020, 0.1013, 0.1006, 0.1000, 0.0993,\n",
      "        0.0986, 0.0979, 0.0973, 0.0966, 0.0959, 0.0953, 0.0946, 0.0940, 0.0933,\n",
      "        0.0927, 0.0921, 0.0914, 0.0908, 0.0902, 0.0895, 0.0889, 0.0883, 0.0877,\n",
      "        0.0871, 0.0865, 0.0858, 0.0852, 0.0846, 0.0841, 0.0835, 0.0829, 0.0823,\n",
      "        0.0817, 0.0811, 0.0806, 0.0800, 0.0794, 0.0789, 0.0783, 0.0777, 0.0772,\n",
      "        0.0766, 0.0761, 0.0755, 0.0750, 0.0744, 0.0739, 0.0734, 0.0728, 0.0723,\n",
      "        0.0718, 0.0713, 0.0708, 0.0702, 0.0697, 0.0692, 0.0687, 0.0682, 0.0677,\n",
      "        0.0672, 0.0667, 0.0662, 0.0657, 0.0653, 0.0648, 0.0643, 0.0638, 0.0633,\n",
      "        0.0629, 0.0624, 0.0619, 0.0615, 0.0610, 0.0606, 0.0601, 0.0597, 0.0592,\n",
      "        0.0588, 0.0583, 0.0579, 0.0574, 0.0570, 0.0566, 0.0562, 0.0557, 0.0553,\n",
      "        0.0549, 0.0545, 0.0540, 0.0536, 0.0532, 0.0528, 0.0524, 0.0520, 0.0516,\n",
      "        0.0512, 0.0508, 0.0504, 0.0500, 0.0496, 0.0493, 0.0489, 0.0485, 0.0481,\n",
      "        0.0477, 0.0474, 0.0470, 0.0466, 0.0463, 0.0459, 0.0456, 0.0452, 0.0448,\n",
      "        0.0445, 0.0441, 0.0438, 0.0434, 0.0431, 0.0428, 0.0424, 0.0421, 0.0417,\n",
      "        0.0414, 0.0411, 0.0408, 0.0404, 0.0401, 0.0398, 0.0395, 0.0391, 0.0388,\n",
      "        0.0385, 0.0382, 0.0379, 0.0376, 0.0373, 0.0370, 0.0367, 0.0364, 0.0361,\n",
      "        0.0358, 0.0355, 0.0352, 0.0349, 0.0346, 0.0344, 0.0341, 0.0338, 0.0335,\n",
      "        0.0332, 0.0330, 0.0327, 0.0324, 0.0321, 0.0319, 0.0316, 0.0314, 0.0311,\n",
      "        0.0308, 0.0306, 0.0303, 0.0301, 0.0298, 0.0296, 0.0293, 0.0291, 0.0288,\n",
      "        0.0286, 0.0283, 0.0281, 0.0279, 0.0276, 0.0274, 0.0272, 0.0269, 0.0267,\n",
      "        0.0265, 0.0263, 0.0260, 0.0258, 0.0256, 0.0254, 0.0251, 0.0249, 0.0247,\n",
      "        0.0245, 0.0243, 0.0241, 0.0239, 0.0237, 0.0235, 0.0233, 0.0231, 0.0229,\n",
      "        0.0227, 0.0225, 0.0223, 0.0221, 0.0219, 0.0217, 0.0215, 0.0213, 0.0211,\n",
      "        0.0209, 0.0208, 0.0206, 0.0204, 0.0202, 0.0200, 0.0199, 0.0197, 0.0195,\n",
      "        0.0193, 0.0192, 0.0190, 0.0188, 0.0187, 0.0185, 0.0183, 0.0182, 0.0180,\n",
      "        0.0178, 0.0177, 0.0175, 0.0174, 0.0172, 0.0170, 0.0169, 0.0167, 0.0166,\n",
      "        0.0164, 0.0163, 0.0161, 0.0160, 0.0159, 0.0157, 0.0156, 0.0154, 0.0153,\n",
      "        0.0151, 0.0150, 0.0149, 0.0147, 0.0146, 0.0145, 0.0143, 0.0142, 0.0141,\n",
      "        0.0139, 0.0138, 0.0137, 0.0135, 0.0134, 0.0133, 0.0132, 0.0131, 0.0129,\n",
      "        0.0128, 0.0127, 0.0126, 0.0125, 0.0123, 0.0122, 0.0121, 0.0120, 0.0119,\n",
      "        0.0118, 0.0117, 0.0115, 0.0114, 0.0113, 0.0112, 0.0111, 0.0110, 0.0109,\n",
      "        0.0108, 0.0107, 0.0106, 0.0105, 0.0104, 0.0103, 0.0102, 0.0101, 0.0100,\n",
      "        0.0099, 0.0098, 0.0097, 0.0096, 0.0095, 0.0094, 0.0093, 0.0093, 0.0092,\n",
      "        0.0091, 0.0090, 0.0089, 0.0088, 0.0087, 0.0086, 0.0086, 0.0085, 0.0084,\n",
      "        0.0083, 0.0082, 0.0082, 0.0081, 0.0080, 0.0079, 0.0078, 0.0078, 0.0077,\n",
      "        0.0076, 0.0075, 0.0075, 0.0074, 0.0073, 0.0072, 0.0072, 0.0071, 0.0070,\n",
      "        0.0070, 0.0069, 0.0068, 0.0067, 0.0067, 0.0066, 0.0065, 0.0065, 0.0064,\n",
      "        0.0064], device='mps:0')\n",
      "tensor([[[[0.0829]]],\n",
      "\n",
      "\n",
      "        [[[0.0540]]],\n",
      "\n",
      "\n",
      "        [[[0.6181]]],\n",
      "\n",
      "\n",
      "        [[[0.0086]]],\n",
      "\n",
      "\n",
      "        [[[0.0485]]],\n",
      "\n",
      "\n",
      "        [[[0.6904]]],\n",
      "\n",
      "\n",
      "        [[[0.9808]]],\n",
      "\n",
      "\n",
      "        [[[0.6772]]],\n",
      "\n",
      "\n",
      "        [[[0.4598]]],\n",
      "\n",
      "\n",
      "        [[[0.2386]]],\n",
      "\n",
      "\n",
      "        [[[0.0231]]],\n",
      "\n",
      "\n",
      "        [[[0.0161]]],\n",
      "\n",
      "\n",
      "        [[[0.0151]]],\n",
      "\n",
      "\n",
      "        [[[0.9303]]],\n",
      "\n",
      "\n",
      "        [[[0.1812]]],\n",
      "\n",
      "\n",
      "        [[[0.0902]]],\n",
      "\n",
      "\n",
      "        [[[0.8486]]],\n",
      "\n",
      "\n",
      "        [[[0.9814]]],\n",
      "\n",
      "\n",
      "        [[[0.3325]]],\n",
      "\n",
      "\n",
      "        [[[0.1327]]],\n",
      "\n",
      "\n",
      "        [[[0.2211]]],\n",
      "\n",
      "\n",
      "        [[[0.4346]]],\n",
      "\n",
      "\n",
      "        [[[0.0574]]],\n",
      "\n",
      "\n",
      "        [[[0.9997]]],\n",
      "\n",
      "\n",
      "        [[[0.9175]]],\n",
      "\n",
      "\n",
      "        [[[0.0883]]],\n",
      "\n",
      "\n",
      "        [[[0.9776]]],\n",
      "\n",
      "\n",
      "        [[[0.0243]]],\n",
      "\n",
      "\n",
      "        [[[0.8329]]],\n",
      "\n",
      "\n",
      "        [[[0.2272]]],\n",
      "\n",
      "\n",
      "        [[[0.9336]]],\n",
      "\n",
      "\n",
      "        [[[0.4616]]]], device='mps:0')\n"
     ]
    }
   ],
   "source": [
    "model.eval()\n",
    "for batch_idx, (x, _) in enumerate(val_dataloader):\n",
    "    x = x.to(DEVICE)\n",
    "    perturbed_images, epsilon, pred_epsilon = diffusion(x)\n",
    "    perturbed_images = diffusion.reverse_scale_to_zero_to_one(perturbed_images)\n",
    "    break"
   ]
  },
  {
   "cell_type": "code",
   "execution_count": 51,
   "metadata": {},
   "outputs": [
    {
     "data": {
      "text/plain": [
       "<matplotlib.image.AxesImage at 0x177af4eb0>"
      ]
     },
     "execution_count": 51,
     "metadata": {},
     "output_type": "execute_result"
    },
    {
     "data": {
      "image/png": "[encoded data removed]",
      "text/plain": [
       "<Figure size 640x480 with 1 Axes>"
      ]
     },
     "metadata": {},
     "output_type": "display_data"
    }
   ],
   "source": [
    "plt.imshow(perturbed_images.cpu()[6][0])"
   ]
  },
  {
   "cell_type": "code",
   "execution_count": 57,
   "metadata": {},
   "outputs": [
    {
     "name": "stdout",
     "output_type": "stream",
     "text": [
      "Start training DDPMs...\n"
     ]
    },
    {
     "name": "stderr",
     "output_type": "stream",
     "text": [
      "100%|██████████| 1875/1875 [03:08<00:00,  9.93it/s]\n"
     ]
    },
    {
     "name": "stdout",
     "output_type": "stream",
     "text": [
      "\tEpoch 1 complete! \tDenoising Loss:  0.03935545904307428\n"
     ]
    },
    {
     "name": "stderr",
     "output_type": "stream",
     "text": [
      "100%|██████████| 1875/1875 [03:09<00:00,  9.90it/s]\n"
     ]
    },
    {
     "name": "stdout",
     "output_type": "stream",
     "text": [
      "\tEpoch 2 complete! \tDenoising Loss:  0.03765701786778955\n"
     ]
    },
    {
     "name": "stderr",
     "output_type": "stream",
     "text": [
      "100%|██████████| 1875/1875 [03:07<00:00, 10.01it/s]\n"
     ]
    },
    {
     "name": "stdout",
     "output_type": "stream",
     "text": [
      "\tEpoch 3 complete! \tDenoising Loss:  0.036216894306814976\n"
     ]
    },
    {
     "name": "stderr",
     "output_type": "stream",
     "text": [
      "100%|██████████| 1875/1875 [03:08<00:00,  9.94it/s]\n"
     ]
    },
    {
     "name": "stdout",
     "output_type": "stream",
     "text": [
      "\tEpoch 4 complete! \tDenoising Loss:  0.035178977526970835\n"
     ]
    },
    {
     "name": "stderr",
     "output_type": "stream",
     "text": [
      "100%|██████████| 1875/1875 [03:07<00:00,  9.97it/s]\n"
     ]
    },
    {
     "name": "stdout",
     "output_type": "stream",
     "text": [
      "\tEpoch 5 complete! \tDenoising Loss:  0.033949947584988975\n"
     ]
    },
    {
     "name": "stderr",
     "output_type": "stream",
     "text": [
      "100%|██████████| 1875/1875 [03:07<00:00,  9.98it/s]\n"
     ]
    },
    {
     "name": "stdout",
     "output_type": "stream",
     "text": [
      "\tEpoch 6 complete! \tDenoising Loss:  0.03352548296910213\n"
     ]
    },
    {
     "name": "stderr",
     "output_type": "stream",
     "text": [
      "100%|██████████| 1875/1875 [03:07<00:00, 10.00it/s]\n"
     ]
    },
    {
     "name": "stdout",
     "output_type": "stream",
     "text": [
      "\tEpoch 7 complete! \tDenoising Loss:  0.0332456933430882\n"
     ]
    },
    {
     "name": "stderr",
     "output_type": "stream",
     "text": [
      "100%|██████████| 1875/1875 [03:08<00:00,  9.97it/s]\n"
     ]
    },
    {
     "name": "stdout",
     "output_type": "stream",
     "text": [
      "\tEpoch 8 complete! \tDenoising Loss:  0.032531400122694676\n"
     ]
    },
    {
     "name": "stderr",
     "output_type": "stream",
     "text": [
      "100%|██████████| 1875/1875 [03:07<00:00,  9.98it/s]\n"
     ]
    },
    {
     "name": "stdout",
     "output_type": "stream",
     "text": [
      "\tEpoch 9 complete! \tDenoising Loss:  0.031923813263815104\n"
     ]
    },
    {
     "name": "stderr",
     "output_type": "stream",
     "text": [
      "100%|██████████| 1875/1875 [03:08<00:00,  9.96it/s]"
     ]
    },
    {
     "name": "stdout",
     "output_type": "stream",
     "text": [
      "\tEpoch 10 complete! \tDenoising Loss:  0.03175749518961239\n",
      "Finish!!\n"
     ]
    },
    {
     "name": "stderr",
     "output_type": "stream",
     "text": [
      "\n"
     ]
    }
   ],
   "source": [
    "print(\"Start training DDPMs...\")\n",
    "model.train()\n",
    "epochs = 3\n",
    "for epoch in range(epochs):\n",
    "    noise_prediction_loss = 0\n",
    "    for batch_idx, (x, _) in tqdm(enumerate(train_dataloader), total=len(train_dataloader)):\n",
    "        optimizer.zero_grad()\n",
    "\n",
    "        x = x.to(DEVICE)\n",
    "        \n",
    "        noisy_input, epsilon, pred_epsilon = diffusion(x)\n",
    "        loss = denoising_loss(pred_epsilon, epsilon)\n",
    "        \n",
    "        noise_prediction_loss += loss.item()\n",
    "        \n",
    "        loss.backward()\n",
    "        optimizer.step()\n",
    "        \n",
    "    print(\"\\tEpoch\", epoch + 1, \"complete!\", \"\\tDenoising Loss: \", noise_prediction_loss / batch_idx)\n",
    "    \n",
    "print(\"Finish!!\")"
   ]
  },
  {
   "cell_type": "code",
   "execution_count": 58,
   "metadata": {},
   "outputs": [],
   "source": [
    "model.eval()\n",
    "\n",
    "with torch.no_grad():\n",
    "    generated_images = diffusion.sample(N=32)\n"
   ]
  },
  {
   "cell_type": "code",
   "execution_count": 68,
   "metadata": {},
   "outputs": [
    {
     "data": {
      "text/plain": [
       "<matplotlib.image.AxesImage at 0x304710b20>"
      ]
     },
     "execution_count": 68,
     "metadata": {},
     "output_type": "execute_result"
    },
    {
     "data": {
      "image/png": "[encoded data removed]",
      "text/plain": [
       "<Figure size 640x480 with 1 Axes>"
      ]
     },
     "metadata": {},
     "output_type": "display_data"
    }
   ],
   "source": [
    "plt.imshow(generated_images[3][0].cpu())"
   ]
  },
  {
   "cell_type": "code",
   "execution_count": null,
   "metadata": {},
   "outputs": [],
   "source": []
  }
 ],
 "metadata": {
  "kernelspec": {
   "display_name": "ddpm_mnist",
   "language": "python",
   "name": "python3"
  },
  "language_info": {
   "codemirror_mode": {
    "name": "ipython",
    "version": 3
   },
   "file_extension": ".py",
   "mimetype": "text/x-python",
   "name": "python",
   "nbconvert_exporter": "python",
   "pygments_lexer": "ipython3",
   "version": "3.10.13"
  }
 },
 "nbformat": 4,
 "nbformat_minor": 2
}
